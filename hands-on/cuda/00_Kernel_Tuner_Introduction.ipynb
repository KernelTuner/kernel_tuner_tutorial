{
  "cells": [
    {
      "cell_type": "markdown",
      "metadata": {
        "id": "AmH1n4971xm0"
      },
      "source": [
        "# Kernel Tuner Tutorial\n",
        "\n",
        "## Introduction Hands-on\n",
        "\n",
        "Welcome to the first hands-on of the Kernel Tuner tutorial. In this hands-on exercise we will learn how to **install** and access Kernel Tuner from Python, and **tune** our first CUDA kernel.\n",
        "\n",
        "To install the latest version of `kernel_tuner` we use `pip`. In general,  before installing Kernel Tuner, we need to have a working CUDA installation available, and be sure to have both `numpy`  and `cupy` installed. On Google Colab, these packages are already present and we only need to install Kernel Tuner."
      ]
    },
    {
      "cell_type": "code",
      "execution_count": null,
      "metadata": {
        "id": "7LBBP5n8EV-H"
      },
      "outputs": [],
      "source": [
        "%pip install kernel-tuner"
      ]
    },
    {
      "cell_type": "markdown",
      "metadata": {
        "id": "cR2rHfIa4e7f"
      },
      "source": [
        "After installing all necessary packages, we can import `numpy` and `kernel_tuner`."
      ]
    },
    {
      "cell_type": "code",
      "execution_count": null,
      "metadata": {
        "id": "As8FyYq3EtoK"
      },
      "outputs": [],
      "source": [
        "import numpy as np\n",
        "import kernel_tuner as kt"
      ]
    },
    {
      "cell_type": "markdown",
      "metadata": {
        "id": "MLe_BXzR5PTk"
      },
      "source": [
        "Before using Kernel Tuner, we will create a text file containing the code of the CUDA kernel that we are going to use in this hands-on.\n",
        "\n",
        "This simple kernel is called `vector_add` and computes the elementwise sum of two vectors of size `n`."
      ]
    },
    {
      "cell_type": "code",
      "execution_count": null,
      "metadata": {
        "id": "xgnQk_bmEx_F"
      },
      "outputs": [],
      "source": [
        "%%writefile vector_add_kernel.cu\n",
        "\n",
        "__global__ void vector_add(float * c, float * a, float * b, int n) {\n",
        "    int i = (blockIdx.x * blockDim.x) + threadIdx.x;\n",
        "\n",
        "    if ( i < n ) {\n",
        "        c[i] = a[i] + b[i];\n",
        "    }\n",
        "}"
      ]
    },
    {
      "cell_type": "markdown",
      "metadata": {
        "id": "cbkMDIgO7V9h"
      },
      "source": [
        "The execution of the cell above created the file `vector_add_kernel.cu` containing the source code of our kernel.\n",
        "\n",
        "We can now use Kernel Tuner to execute the code on the GPU; please read carefully both code and comments to become familiar with how Kernel Tuner works. For more details refer to the [API](https://KernelTuner.github.io/kernel_tuner/stable/user-api.html).\n",
        "\n",
        "Now our first step is to create some input data to test our vector_add kernel on."
      ]
    },
    {
      "cell_type": "code",
      "execution_count": null,
      "metadata": {
        "id": "cZPTL1kjE-OS"
      },
      "outputs": [],
      "source": [
        "# the size of the vectors\n",
        "size = 1000000\n",
        "\n",
        "# all the kernel input and output data need to use numpy data types,\n",
        "# note that we explicitly state that these arrays should consist of\n",
        "# 32 bit floating-point values, to match our kernel source code\n",
        "a = np.random.randn(size).astype(np.float32)\n",
        "b = np.random.randn(size).astype(np.float32)\n",
        "c = np.zeros_like(b)\n",
        "n = np.int32(size)\n",
        "\n",
        "# EXERCISE 1: combine the above created variables into an argument list that matches\n",
        "# the order and types of the function arguments of our CUDA kernel\n",
        "args = [] # Example Python syntax for creating a list is: [x, y, z]"
      ]
    },
    {
      "cell_type": "markdown",
      "source": [
        "The next step is to define the tunable parameters. These are the things that we would like Kernel Tuner to vary and experiment with in our code. Every tunable parameter has a name (as a string) and a list of possible values (usually a list of integers).\n",
        "\n",
        "We will use a Python dictionary that works as a key-value store. As keys, we will use the name of the tunable parameter. As value of this key, we insert the list of possible values of our tunable parameter.\n",
        "\n",
        "For our first tunable parameter, we will be testing the vector_add kernel with different thread block dimensions. By default, Kernel Tuner assumes that the x-dimension of the thread block is called ``block_size_x``. In other words, this is a special tunable parameter name that Kernel Tuner recognizes to mean the thread block size in x."
      ],
      "metadata": {
        "id": "jDwUflnYhSda"
      }
    },
    {
      "cell_type": "code",
      "source": [
        "# EXERCISE 2: Create a dictionary to tell Kernel Tuner about\n",
        "# the tunable parameters in our code and what values these may take.\n",
        "#\n",
        "# There are many ways in which you can instantiate dictionaries in Python.\n",
        "# Let's call our dictionary 'tune_params'\n",
        "tune_params = dict()\n",
        "# Now we can insert a new key named 'block_size_x' and supply it\n",
        "# with a list of possible values for our thread block size\n",
        "# try for example some powers of 2\n",
        "tune_params['block_size_x'] = [] # TODO: insert values here"
      ],
      "metadata": {
        "id": "Ozw3mtv-gqXu"
      },
      "execution_count": null,
      "outputs": []
    },
    {
      "cell_type": "markdown",
      "source": [
        "Now, we are ready to call the tuner."
      ],
      "metadata": {
        "id": "NSnJB_C9job7"
      }
    },
    {
      "cell_type": "code",
      "source": [
        "if not args:\n",
        "    print(\"Error: You have to first create the argument list (Exercise 1)\")\n",
        "elif not tune_params['block_size_x']:\n",
        "    print(\"Error: You have to first insert some values for the block_size_x (Exercise 2)\")\n",
        "\n",
        "# finally, we call tune_kernel to start the tuning process. To do so,\n",
        "# we pass\n",
        "#    the name of the kernel we'd like to tune, in our case: \"vector_add\",\n",
        "#    the name of the file containing our source code,\n",
        "#    the \"problem_size\" that our kernel operates on\n",
        "#    the argument list to call our kernel function\n",
        "#    the dictionary with tunable parameters\n",
        "else:\n",
        "    results, env = kt.tune_kernel(\"vector_add\", \"vector_add_kernel.cu\", size, args, tune_params, lang=\"cupy\")"
      ],
      "metadata": {
        "id": "U1miyz-jjomZ"
      },
      "execution_count": null,
      "outputs": []
    },
    {
      "cell_type": "markdown",
      "metadata": {
        "id": "IF1HCWx4Dzp8"
      },
      "source": [
        "\n",
        "\n",
        "The `tune_kernel` function returns two outputs that we saved as `results` and `env`:\n",
        "\n",
        "* `results` is a list of dictionaries, each containing detailed information about the configurations that have been benchmarked;\n",
        "* `env` is a dictionary that stores information about the hardware and software environment in which this experiment took place; it is recommended to store this information along with the benchmark results.\n",
        "\n",
        "We can also print the content of `results` to have a look at the output."
      ]
    },
    {
      "cell_type": "code",
      "execution_count": null,
      "metadata": {
        "id": "LHlbScKUGir3"
      },
      "outputs": [],
      "source": [
        "print(f\"Number of configurations: {len(results)}\")\n",
        "print(results)"
      ]
    },
    {
      "cell_type": "markdown",
      "source": [
        "Congratulations! You have made your first steps towards automatic performance tuning of GPU kernels!\n",
        "\n",
        "There is much more training material available on: https://github.com/kerneltuner/kernel_tuner_tutorial"
      ],
      "metadata": {
        "id": "iyaCuea6kepP"
      }
    }
  ],
  "metadata": {
    "accelerator": "GPU",
    "colab": {
      "name": "00-Kernel_Tuner-Introduction.ipynb",
      "provenance": []
    },
    "kernelspec": {
      "display_name": "Python 3",
      "name": "python3"
    },
    "language_info": {
      "name": "python"
    }
  },
  "nbformat": 4,
  "nbformat_minor": 0
}