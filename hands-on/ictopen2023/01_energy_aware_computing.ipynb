{
  "cells": [
    {
      "cell_type": "markdown",
      "metadata": {
        "id": "fxycY0vBU8oQ"
      },
      "source": [
        "# Kernel Tuner Tutorial - Energy aware computing\n",
        "\n",
        "## Hands-on"
      ]
    },
    {
      "cell_type": "code",
      "source": [
        "!wget -O GEMM_A100_cache.json.bz2 https://github.com/KernelTuner/kernel_tuner_tutorial/blob/master/energy/data/GEMM_NVML_NVIDIA_A100-PCIE-40GB_freq_cache.json.bz2?raw=true\n",
        "!bunzip2 GEMM_A100_cache.json.bz2"
      ],
      "metadata": {
        "id": "W73GAx1z51PS"
      },
      "execution_count": null,
      "outputs": []
    },
    {
      "cell_type": "code",
      "execution_count": null,
      "metadata": {
        "id": "95uRehlTY67Z"
      },
      "outputs": [],
      "source": [
        "#%pip install kernel_tuner\n",
        "%pip install git+https://github.com/KernelTuner/kernel_tuner.git@energy_tutorial\n",
        "\n",
        "import numpy as np\n",
        "import kernel_tuner as kt\n",
        "import collections"
      ]
    },
    {
      "cell_type": "markdown",
      "metadata": {
        "id": "NGfOQTE4idrv"
      },
      "source": [
        "We now allocate memory, define tunable parameters and constraints, and tune the kernel."
      ]
    },
    {
      "cell_type": "code",
      "source": [
        "tune_params = collections.OrderedDict()\n",
        "tune_params[\"nvml_gr_clock\"] = [330, 510, 690, 870, 1050, 1230, 1410] # <=== Parameter for clock frequency of GPU\n",
        "\n",
        "tune_params[\"MWG\"] = [16, 32, 64, 128]\n",
        "tune_params[\"NWG\"] = [16, 32, 64, 128]\n",
        "tune_params[\"KWG\"] = [32]\n",
        "tune_params[\"MDIMC\"] = [8, 16, 32]\n",
        "tune_params[\"NDIMC\"] = [8, 16, 32]\n",
        "tune_params[\"MDIMA\"] = [8, 16, 32]\n",
        "tune_params[\"NDIMB\"] = [8, 16, 32]\n",
        "tune_params[\"KWI\"] = [2]\n",
        "tune_params[\"VWM\"] = [1, 2, 4, 8]\n",
        "tune_params[\"VWN\"] = [1, 2, 4, 8]\n",
        "tune_params[\"STRM\"] = [0]\n",
        "tune_params[\"STRN\"] = [0]\n",
        "tune_params[\"SA\"] = [0, 1]\n",
        "tune_params[\"SB\"] = [0, 1]\n",
        "tune_params[\"PRECISION\"] = [32]\n",
        "\n",
        "# Size of the matrices to test on\n",
        "m = n = k = 4096\n",
        "problem_size = (m, n)\n",
        "\n",
        "grid_div_x = [\"MWG\"]\n",
        "grid_div_y = [\"NWG\"]\n",
        "block_size_names = [\"MDIMC\", \"NDIMC\", \"block_size_z\"]\n",
        "\n",
        "# Search space restriction\n",
        "restrict = []\n",
        "restrict += [\"KWG % KWI == 0\"]\n",
        "restrict += [\"MWG % (MDIMC * VWM) == 0\"]\n",
        "restrict += [\"NWG % (NDIMC * VWN) == 0\"]\n",
        "restrict += [\"MWG % (MDIMA * VWM) == 0\"]\n",
        "restrict += [\"NWG % (NDIMB * VWN) == 0\"]\n",
        "restrict += [\"KWG % ((MDIMC * NDIMC)/MDIMA) == 0\"]\n",
        "restrict += [\"KWG % ((MDIMC * NDIMC)/NDIMB) == 0\"]\n",
        "\n",
        "restrict += [\"not (MWG == 128 and NWG == 128 and MDIMC == 8 and NDIMC == 8)\"]\n",
        "\n",
        "def ops(m, n, k):\n",
        "    return (m * n * k * 2 + 2 * m * k)/1e9\n",
        "\n",
        "total_flops = ops(m,n,k)\n",
        "metrics = collections.OrderedDict()\n",
        "metrics[\"GFLOP/s\"] = lambda p: total_flops / (p[\"time\"] / 1000.0)\n",
        "metrics[\"GFLOPS/W\"] = lambda p: total_flops / p[\"nvml_energy\"]\n",
        "\n",
        "# Create NVML observer\n",
        "#nvmlobserver = kt.nvml.NVMLObserver([\"temperature\"])"
      ],
      "metadata": {
        "id": "4fX8j7-P-GKX"
      },
      "execution_count": 4,
      "outputs": []
    },
    {
      "cell_type": "code",
      "source": [
        "strategy = 'greedy_mls'\n",
        "fevals = 100\n",
        "# For speed:\n",
        "#to_optimize = 'GFLOP/s'\n",
        "\n",
        "# For energy:\n",
        "to_optimize = 'GFLOPS/W'\n",
        "\n",
        "results, env = kt.tune_kernel(\"Xgemm\", \"\", problem_size, [], tune_params, block_size_names=block_size_names,\n",
        "                             simulation_mode=True,\n",
        "                             restrictions=restrict,\n",
        "                             grid_div_x=grid_div_x,\n",
        "                             grid_div_y=grid_div_y,\n",
        "                             strategy=strategy,\n",
        "                             strategy_options=dict(max_fevals=fevals),\n",
        "                             metrics=metrics,\n",
        "                             objective=to_optimize,\n",
        "                             cache=\"GEMM_A100_cache.json\")"
      ],
      "metadata": {
        "colab": {
          "base_uri": "https://localhost:8080/",
          "height": 1000
        },
        "id": "TAmMLbDF7V55",
        "outputId": "aab34af9-7f90-4f3a-ce06-2905e7d2c1c9"
      },
      "execution_count": 8,
      "outputs": [
        {
          "output_type": "stream",
          "name": "stdout",
          "text": [
            "Simulating: NVIDIA A100-PCIE-40GB\n",
            "nvml_gr_clock=510, MWG=32, NWG=32, KWG=32, MDIMC=8, NDIMC=16, MDIMA=8, NDIMB=8, KWI=2, VWM=4, VWN=2, STRM=0, STRN=0, SA=1, SB=0, PRECISION=32, time=33.917, GFLOP/s=4053.236, GFLOPS/W=34.333\n",
            "nvml_gr_clock=870, MWG=32, NWG=32, KWG=32, MDIMC=8, NDIMC=16, MDIMA=8, NDIMB=8, KWI=2, VWM=4, VWN=2, STRM=0, STRN=0, SA=1, SB=0, PRECISION=32, time=20.125, GFLOP/s=6831.087, GFLOPS/W=39.314\n",
            "nvml_gr_clock=870, MWG=32, NWG=32, KWG=32, MDIMC=8, NDIMC=16, MDIMA=8, NDIMB=8, KWI=2, VWM=4, VWN=1, STRM=0, STRN=0, SA=1, SB=0, PRECISION=32, time=20.952, GFLOP/s=6561.276, GFLOPS/W=40.476\n",
            "nvml_gr_clock=870, MWG=64, NWG=32, KWG=32, MDIMC=8, NDIMC=16, MDIMA=8, NDIMB=8, KWI=2, VWM=4, VWN=1, STRM=0, STRN=0, SA=1, SB=0, PRECISION=32, time=29.737, GFLOP/s=4623.005, GFLOPS/W=41.039\n",
            "nvml_gr_clock=870, MWG=64, NWG=32, KWG=32, MDIMC=16, NDIMC=16, MDIMA=8, NDIMB=8, KWI=2, VWM=4, VWN=1, STRM=0, STRN=0, SA=1, SB=0, PRECISION=32, time=22.157, GFLOP/s=6204.494, GFLOPS/W=42.114\n",
            "nvml_gr_clock=870, MWG=64, NWG=64, KWG=32, MDIMC=16, NDIMC=16, MDIMA=8, NDIMB=8, KWI=2, VWM=4, VWN=1, STRM=0, STRN=0, SA=1, SB=0, PRECISION=32, time=17.263, GFLOP/s=7963.191, GFLOPS/W=54.393\n",
            "nvml_gr_clock=870, MWG=64, NWG=16, KWG=32, MDIMC=16, NDIMC=16, MDIMA=8, NDIMB=8, KWI=2, VWM=4, VWN=1, STRM=0, STRN=0, SA=1, SB=0, PRECISION=32, time=35.449, GFLOP/s=3878.029, GFLOPS/W=27.196\n",
            "nvml_gr_clock=870, MWG=64, NWG=128, KWG=32, MDIMC=16, NDIMC=16, MDIMA=8, NDIMB=8, KWI=2, VWM=4, VWN=1, STRM=0, STRN=0, SA=1, SB=0, PRECISION=32, time=16.501, GFLOP/s=8331.402, GFLOPS/W=66.190\n",
            "nvml_gr_clock=870, MWG=64, NWG=128, KWG=32, MDIMC=16, NDIMC=16, MDIMA=8, NDIMB=8, KWI=2, VWM=1, VWN=1, STRM=0, STRN=0, SA=1, SB=0, PRECISION=32, time=18.397, GFLOP/s=7472.437, GFLOPS/W=60.466\n",
            "nvml_gr_clock=870, MWG=64, NWG=128, KWG=32, MDIMC=16, NDIMC=16, MDIMA=8, NDIMB=8, KWI=2, VWM=2, VWN=1, STRM=0, STRN=0, SA=1, SB=0, PRECISION=32, time=17.410, GFLOP/s=7896.306, GFLOPS/W=62.234\n",
            "nvml_gr_clock=510, MWG=64, NWG=128, KWG=32, MDIMC=16, NDIMC=16, MDIMA=8, NDIMB=8, KWI=2, VWM=4, VWN=1, STRM=0, STRN=0, SA=1, SB=0, PRECISION=32, time=26.558, GFLOP/s=5176.286, GFLOPS/W=55.455\n",
            "nvml_gr_clock=330, MWG=64, NWG=128, KWG=32, MDIMC=16, NDIMC=16, MDIMA=8, NDIMB=8, KWI=2, VWM=4, VWN=1, STRM=0, STRN=0, SA=1, SB=0, PRECISION=32, time=39.585, GFLOP/s=3472.830, GFLOPS/W=48.189\n",
            "nvml_gr_clock=1410, MWG=64, NWG=128, KWG=32, MDIMC=16, NDIMC=16, MDIMA=8, NDIMB=8, KWI=2, VWM=4, VWN=1, STRM=0, STRN=0, SA=1, SB=0, PRECISION=32, time=11.195, GFLOP/s=12279.795, GFLOPS/W=48.546\n",
            "nvml_gr_clock=1050, MWG=64, NWG=128, KWG=32, MDIMC=16, NDIMC=16, MDIMA=8, NDIMB=8, KWI=2, VWM=4, VWN=1, STRM=0, STRN=0, SA=1, SB=0, PRECISION=32, time=13.954, GFLOP/s=9851.734, GFLOPS/W=67.042\n",
            "nvml_gr_clock=1230, MWG=64, NWG=128, KWG=32, MDIMC=16, NDIMC=16, MDIMA=8, NDIMB=8, KWI=2, VWM=4, VWN=1, STRM=0, STRN=0, SA=1, SB=0, PRECISION=32, time=12.138, GFLOP/s=11325.533, GFLOPS/W=55.043\n",
            "nvml_gr_clock=690, MWG=64, NWG=128, KWG=32, MDIMC=16, NDIMC=16, MDIMA=8, NDIMB=8, KWI=2, VWM=4, VWN=1, STRM=0, STRN=0, SA=1, SB=0, PRECISION=32, time=20.249, GFLOP/s=6789.234, GFLOPS/W=60.956\n",
            "nvml_gr_clock=1050, MWG=64, NWG=64, KWG=32, MDIMC=16, NDIMC=16, MDIMA=8, NDIMB=8, KWI=2, VWM=4, VWN=1, STRM=0, STRN=0, SA=1, SB=0, PRECISION=32, time=14.546, GFLOP/s=9450.560, GFLOPS/W=55.276\n",
            "nvml_gr_clock=1050, MWG=64, NWG=32, KWG=32, MDIMC=16, NDIMC=16, MDIMA=8, NDIMB=8, KWI=2, VWM=4, VWN=1, STRM=0, STRN=0, SA=1, SB=0, PRECISION=32, time=18.609, GFLOP/s=7387.472, GFLOPS/W=42.282\n",
            "nvml_gr_clock=1050, MWG=64, NWG=16, KWG=32, MDIMC=16, NDIMC=16, MDIMA=8, NDIMB=8, KWI=2, VWM=4, VWN=1, STRM=0, STRN=0, SA=1, SB=0, PRECISION=32, time=29.551, GFLOP/s=4651.990, GFLOPS/W=26.600\n",
            "nvml_gr_clock=1050, MWG=64, NWG=128, KWG=32, MDIMC=16, NDIMC=16, MDIMA=16, NDIMB=8, KWI=2, VWM=4, VWN=1, STRM=0, STRN=0, SA=1, SB=0, PRECISION=32, time=13.776, GFLOP/s=9979.042, GFLOPS/W=65.809\n",
            "nvml_gr_clock=1050, MWG=64, NWG=128, KWG=32, MDIMC=16, NDIMC=16, MDIMA=8, NDIMB=8, KWI=2, VWM=4, VWN=1, STRM=0, STRN=0, SA=1, SB=1, PRECISION=32, time=14.395, GFLOP/s=9550.042, GFLOPS/W=68.845\n",
            "nvml_gr_clock=1050, MWG=64, NWG=128, KWG=32, MDIMC=16, NDIMC=16, MDIMA=16, NDIMB=8, KWI=2, VWM=4, VWN=1, STRM=0, STRN=0, SA=1, SB=1, PRECISION=32, time=14.097, GFLOP/s=9751.638, GFLOPS/W=69.588\n",
            "nvml_gr_clock=510, MWG=64, NWG=128, KWG=32, MDIMC=16, NDIMC=16, MDIMA=16, NDIMB=8, KWI=2, VWM=4, VWN=1, STRM=0, STRN=0, SA=1, SB=1, PRECISION=32, time=28.925, GFLOP/s=4752.711, GFLOPS/W=57.678\n",
            "nvml_gr_clock=1230, MWG=64, NWG=128, KWG=32, MDIMC=16, NDIMC=16, MDIMA=16, NDIMB=8, KWI=2, VWM=4, VWN=1, STRM=0, STRN=0, SA=1, SB=1, PRECISION=32, time=12.045, GFLOP/s=11413.674, GFLOPS/W=58.374\n",
            "nvml_gr_clock=870, MWG=64, NWG=128, KWG=32, MDIMC=16, NDIMC=16, MDIMA=16, NDIMB=8, KWI=2, VWM=4, VWN=1, STRM=0, STRN=0, SA=1, SB=1, PRECISION=32, time=16.867, GFLOP/s=8150.552, GFLOPS/W=68.569\n",
            "nvml_gr_clock=330, MWG=64, NWG=128, KWG=32, MDIMC=16, NDIMC=16, MDIMA=16, NDIMB=8, KWI=2, VWM=4, VWN=1, STRM=0, STRN=0, SA=1, SB=1, PRECISION=32, time=45.127, GFLOP/s=3046.353, GFLOPS/W=46.873\n",
            "nvml_gr_clock=690, MWG=64, NWG=128, KWG=32, MDIMC=16, NDIMC=16, MDIMA=16, NDIMB=8, KWI=2, VWM=4, VWN=1, STRM=0, STRN=0, SA=1, SB=1, PRECISION=32, time=21.303, GFLOP/s=6453.269, GFLOPS/W=64.364\n",
            "nvml_gr_clock=1410, MWG=64, NWG=128, KWG=32, MDIMC=16, NDIMC=16, MDIMA=16, NDIMB=8, KWI=2, VWM=4, VWN=1, STRM=0, STRN=0, SA=1, SB=1, PRECISION=32, time=10.839, GFLOP/s=12683.470, GFLOPS/W=50.079\n",
            "nvml_gr_clock=1050, MWG=64, NWG=128, KWG=32, MDIMC=8, NDIMC=16, MDIMA=16, NDIMB=8, KWI=2, VWM=4, VWN=1, STRM=0, STRN=0, SA=1, SB=1, PRECISION=32, time=13.861, GFLOP/s=9917.589, GFLOPS/W=71.495\n",
            "nvml_gr_clock=1050, MWG=64, NWG=128, KWG=32, MDIMC=8, NDIMC=16, MDIMA=16, NDIMB=8, KWI=2, VWM=4, VWN=1, STRM=0, STRN=0, SA=0, SB=1, PRECISION=32, time=22.497, GFLOP/s=6110.572, GFLOPS/W=59.520\n",
            "nvml_gr_clock=1050, MWG=64, NWG=64, KWG=32, MDIMC=8, NDIMC=16, MDIMA=16, NDIMB=8, KWI=2, VWM=4, VWN=1, STRM=0, STRN=0, SA=1, SB=1, PRECISION=32, time=14.542, GFLOP/s=9453.392, GFLOPS/W=62.382\n",
            "nvml_gr_clock=1050, MWG=64, NWG=16, KWG=32, MDIMC=8, NDIMC=16, MDIMA=16, NDIMB=8, KWI=2, VWM=4, VWN=1, STRM=0, STRN=0, SA=1, SB=1, PRECISION=32, time=45.094, GFLOP/s=3048.550, GFLOPS/W=24.029\n",
            "nvml_gr_clock=1050, MWG=64, NWG=32, KWG=32, MDIMC=8, NDIMC=16, MDIMA=16, NDIMB=8, KWI=2, VWM=4, VWN=1, STRM=0, STRN=0, SA=1, SB=1, PRECISION=32, time=23.272, GFLOP/s=5907.159, GFLOPS/W=42.466\n",
            "nvml_gr_clock=1050, MWG=64, NWG=128, KWG=32, MDIMC=8, NDIMC=16, MDIMA=16, NDIMB=8, KWI=2, VWM=2, VWN=1, STRM=0, STRN=0, SA=1, SB=1, PRECISION=32, time=16.321, GFLOP/s=8423.052, GFLOPS/W=66.186\n",
            "nvml_gr_clock=1050, MWG=64, NWG=128, KWG=32, MDIMC=8, NDIMC=16, MDIMA=16, NDIMB=8, KWI=2, VWM=1, VWN=1, STRM=0, STRN=0, SA=1, SB=1, PRECISION=32, time=20.543, GFLOP/s=6692.019, GFLOPS/W=58.854\n",
            "nvml_gr_clock=1050, MWG=128, NWG=128, KWG=32, MDIMC=8, NDIMC=16, MDIMA=16, NDIMB=8, KWI=2, VWM=4, VWN=1, STRM=0, STRN=0, SA=1, SB=1, PRECISION=32, time=15.002, GFLOP/s=9163.630, GFLOPS/W=77.955\n",
            "nvml_gr_clock=1050, MWG=128, NWG=128, KWG=32, MDIMC=8, NDIMC=16, MDIMA=16, NDIMB=16, KWI=2, VWM=4, VWN=1, STRM=0, STRN=0, SA=1, SB=1, PRECISION=32, time=13.193, GFLOP/s=10419.964, GFLOPS/W=82.311\n",
            "nvml_gr_clock=1050, MWG=128, NWG=128, KWG=32, MDIMC=8, NDIMC=16, MDIMA=16, NDIMB=16, KWI=2, VWM=4, VWN=1, STRM=0, STRN=0, SA=1, SB=0, PRECISION=32, time=15.506, GFLOP/s=8865.560, GFLOPS/W=79.901\n",
            "nvml_gr_clock=1050, MWG=128, NWG=128, KWG=32, MDIMC=8, NDIMC=16, MDIMA=8, NDIMB=16, KWI=2, VWM=4, VWN=1, STRM=0, STRN=0, SA=1, SB=1, PRECISION=32, time=14.102, GFLOP/s=9748.212, GFLOPS/W=79.486\n",
            "nvml_gr_clock=1050, MWG=128, NWG=128, KWG=32, MDIMC=8, NDIMC=16, MDIMA=32, NDIMB=16, KWI=2, VWM=4, VWN=1, STRM=0, STRN=0, SA=1, SB=1, PRECISION=32, time=12.917, GFLOP/s=10642.737, GFLOPS/W=83.355\n",
            "nvml_gr_clock=1050, MWG=128, NWG=128, KWG=32, MDIMC=8, NDIMC=16, MDIMA=32, NDIMB=16, KWI=2, VWM=2, VWN=1, STRM=0, STRN=0, SA=1, SB=1, PRECISION=32, time=14.525, GFLOP/s=9464.360, GFLOPS/W=79.187\n",
            "nvml_gr_clock=1050, MWG=128, NWG=128, KWG=32, MDIMC=8, NDIMC=16, MDIMA=32, NDIMB=16, KWI=2, VWM=1, VWN=1, STRM=0, STRN=0, SA=1, SB=1, PRECISION=32, time=15.576, GFLOP/s=8825.947, GFLOPS/W=74.130\n",
            "nvml_gr_clock=1050, MWG=128, NWG=128, KWG=32, MDIMC=8, NDIMC=16, MDIMA=32, NDIMB=16, KWI=2, VWM=4, VWN=1, STRM=0, STRN=0, SA=0, SB=1, PRECISION=32, time=17.255, GFLOP/s=7967.060, GFLOPS/W=73.806\n",
            "nvml_gr_clock=1050, MWG=128, NWG=128, KWG=32, MDIMC=8, NDIMC=16, MDIMA=32, NDIMB=16, KWI=2, VWM=4, VWN=4, STRM=0, STRN=0, SA=1, SB=1, PRECISION=32, time=12.017, GFLOP/s=11439.465, GFLOPS/W=87.186\n",
            "nvml_gr_clock=1050, MWG=128, NWG=128, KWG=32, MDIMC=8, NDIMC=16, MDIMA=8, NDIMB=16, KWI=2, VWM=4, VWN=4, STRM=0, STRN=0, SA=1, SB=1, PRECISION=32, time=13.178, GFLOP/s=10432.079, GFLOPS/W=82.959\n",
            "nvml_gr_clock=1050, MWG=128, NWG=128, KWG=32, MDIMC=8, NDIMC=16, MDIMA=16, NDIMB=16, KWI=2, VWM=4, VWN=4, STRM=0, STRN=0, SA=1, SB=1, PRECISION=32, time=12.640, GFLOP/s=10876.193, GFLOPS/W=84.624\n",
            "nvml_gr_clock=1050, MWG=128, NWG=128, KWG=32, MDIMC=8, NDIMC=16, MDIMA=32, NDIMB=16, KWI=2, VWM=2, VWN=4, STRM=0, STRN=0, SA=1, SB=1, PRECISION=32, time=13.520, GFLOP/s=10167.920, GFLOPS/W=81.258\n",
            "nvml_gr_clock=1050, MWG=128, NWG=128, KWG=32, MDIMC=8, NDIMC=16, MDIMA=32, NDIMB=16, KWI=2, VWM=1, VWN=4, STRM=0, STRN=0, SA=1, SB=1, PRECISION=32, time=13.716, GFLOP/s=10023.049, GFLOPS/W=78.569\n",
            "nvml_gr_clock=1050, MWG=128, NWG=128, KWG=32, MDIMC=8, NDIMC=16, MDIMA=32, NDIMB=16, KWI=2, VWM=4, VWN=4, STRM=0, STRN=0, SA=1, SB=0, PRECISION=32, time=12.525, GFLOP/s=10975.656, GFLOPS/W=84.156\n",
            "nvml_gr_clock=1050, MWG=128, NWG=128, KWG=32, MDIMC=8, NDIMC=32, MDIMA=32, NDIMB=16, KWI=2, VWM=4, VWN=4, STRM=0, STRN=0, SA=1, SB=1, PRECISION=32, time=21.811, GFLOP/s=6302.807, GFLOPS/W=63.869\n",
            "nvml_gr_clock=1050, MWG=128, NWG=128, KWG=32, MDIMC=32, NDIMC=16, MDIMA=32, NDIMB=16, KWI=2, VWM=4, VWN=4, STRM=0, STRN=0, SA=1, SB=1, PRECISION=32, time=13.039, GFLOP/s=10543.196, GFLOPS/W=82.798\n",
            "nvml_gr_clock=1050, MWG=128, NWG=128, KWG=32, MDIMC=16, NDIMC=16, MDIMA=32, NDIMB=16, KWI=2, VWM=4, VWN=4, STRM=0, STRN=0, SA=1, SB=1, PRECISION=32, time=11.459, GFLOP/s=11996.917, GFLOPS/W=87.925\n",
            "nvml_gr_clock=1050, MWG=128, NWG=128, KWG=32, MDIMC=16, NDIMC=16, MDIMA=32, NDIMB=16, KWI=2, VWM=1, VWN=4, STRM=0, STRN=0, SA=1, SB=1, PRECISION=32, time=13.777, GFLOP/s=9978.601, GFLOPS/W=79.013\n",
            "nvml_gr_clock=1050, MWG=128, NWG=128, KWG=32, MDIMC=16, NDIMC=16, MDIMA=32, NDIMB=16, KWI=2, VWM=2, VWN=4, STRM=0, STRN=0, SA=1, SB=1, PRECISION=32, time=12.895, GFLOP/s=10660.521, GFLOPS/W=81.431\n",
            "nvml_gr_clock=1050, MWG=128, NWG=128, KWG=32, MDIMC=16, NDIMC=16, MDIMA=32, NDIMB=16, KWI=2, VWM=4, VWN=4, STRM=0, STRN=0, SA=0, SB=1, PRECISION=32, time=14.815, GFLOP/s=9279.231, GFLOPS/W=80.159\n",
            "nvml_gr_clock=1050, MWG=128, NWG=128, KWG=32, MDIMC=16, NDIMC=16, MDIMA=32, NDIMB=16, KWI=2, VWM=4, VWN=4, STRM=0, STRN=0, SA=1, SB=0, PRECISION=32, time=13.618, GFLOP/s=10094.785, GFLOPS/W=79.208\n",
            "nvml_gr_clock=1050, MWG=128, NWG=128, KWG=32, MDIMC=16, NDIMC=16, MDIMA=32, NDIMB=16, KWI=2, VWM=4, VWN=8, STRM=0, STRN=0, SA=1, SB=1, PRECISION=32, time=11.364, GFLOP/s=12096.819, GFLOPS/W=92.249\n",
            "nvml_gr_clock=1050, MWG=128, NWG=128, KWG=32, MDIMC=16, NDIMC=16, MDIMA=32, NDIMB=8, KWI=2, VWM=4, VWN=8, STRM=0, STRN=0, SA=1, SB=1, PRECISION=32, time=11.850, GFLOP/s=11600.606, GFLOPS/W=85.225\n",
            "nvml_gr_clock=1050, MWG=128, NWG=128, KWG=32, MDIMC=16, NDIMC=16, MDIMA=16, NDIMB=16, KWI=2, VWM=4, VWN=8, STRM=0, STRN=0, SA=1, SB=1, PRECISION=32, time=11.747, GFLOP/s=11702.881, GFLOPS/W=88.105\n",
            "nvml_gr_clock=1050, MWG=128, NWG=128, KWG=32, MDIMC=16, NDIMC=16, MDIMA=8, NDIMB=16, KWI=2, VWM=4, VWN=8, STRM=0, STRN=0, SA=1, SB=1, PRECISION=32, time=12.248, GFLOP/s=11223.851, GFLOPS/W=85.959\n",
            "nvml_gr_clock=1050, MWG=128, NWG=128, KWG=32, MDIMC=16, NDIMC=16, MDIMA=32, NDIMB=16, KWI=2, VWM=4, VWN=8, STRM=0, STRN=0, SA=1, SB=0, PRECISION=32, time=13.527, GFLOP/s=10163.184, GFLOPS/W=80.381\n",
            "nvml_gr_clock=1050, MWG=128, NWG=128, KWG=32, MDIMC=16, NDIMC=8, MDIMA=32, NDIMB=16, KWI=2, VWM=4, VWN=8, STRM=0, STRN=0, SA=1, SB=1, PRECISION=32, time=11.595, GFLOP/s=11856.544, GFLOPS/W=94.890\n",
            "nvml_gr_clock=1050, MWG=128, NWG=128, KWG=32, MDIMC=16, NDIMC=8, MDIMA=32, NDIMB=16, KWI=2, VWM=4, VWN=2, STRM=0, STRN=0, SA=1, SB=1, PRECISION=32, time=11.795, GFLOP/s=11654.806, GFLOPS/W=88.243\n",
            "nvml_gr_clock=1050, MWG=128, NWG=128, KWG=32, MDIMC=16, NDIMC=8, MDIMA=32, NDIMB=16, KWI=2, VWM=4, VWN=1, STRM=0, STRN=0, SA=1, SB=1, PRECISION=32, time=11.119, GFLOP/s=12364.201, GFLOPS/W=88.823\n",
            "nvml_gr_clock=1050, MWG=128, NWG=128, KWG=32, MDIMC=16, NDIMC=8, MDIMA=32, NDIMB=16, KWI=2, VWM=4, VWN=4, STRM=0, STRN=0, SA=1, SB=1, PRECISION=32, time=11.688, GFLOP/s=11762.044, GFLOPS/W=97.411\n",
            "nvml_gr_clock=1050, MWG=128, NWG=128, KWG=32, MDIMC=32, NDIMC=8, MDIMA=32, NDIMB=16, KWI=2, VWM=4, VWN=4, STRM=0, STRN=0, SA=1, SB=1, PRECISION=32, time=11.175, GFLOP/s=12301.887, GFLOPS/W=95.625\n",
            "nvml_gr_clock=1050, MWG=128, NWG=128, KWG=32, MDIMC=16, NDIMC=8, MDIMA=32, NDIMB=16, KWI=2, VWM=1, VWN=4, STRM=0, STRN=0, SA=1, SB=1, PRECISION=32, time=11.995, GFLOP/s=11460.422, GFLOPS/W=87.447\n",
            "nvml_gr_clock=1050, MWG=128, NWG=128, KWG=32, MDIMC=16, NDIMC=8, MDIMA=32, NDIMB=16, KWI=2, VWM=2, VWN=4, STRM=0, STRN=0, SA=1, SB=1, PRECISION=32, time=11.371, GFLOP/s=12089.982, GFLOPS/W=87.932\n",
            "nvml_gr_clock=1050, MWG=128, NWG=128, KWG=32, MDIMC=16, NDIMC=32, MDIMA=32, NDIMB=16, KWI=2, VWM=4, VWN=4, STRM=0, STRN=0, SA=1, SB=1, PRECISION=32, time=13.658, GFLOP/s=10065.709, GFLOPS/W=78.776\n",
            "nvml_gr_clock=1050, MWG=128, NWG=128, KWG=32, MDIMC=16, NDIMC=8, MDIMA=16, NDIMB=16, KWI=2, VWM=4, VWN=4, STRM=0, STRN=0, SA=1, SB=1, PRECISION=32, time=11.563, GFLOP/s=11888.495, GFLOPS/W=95.043\n",
            "nvml_gr_clock=1050, MWG=128, NWG=128, KWG=32, MDIMC=16, NDIMC=8, MDIMA=8, NDIMB=16, KWI=2, VWM=4, VWN=4, STRM=0, STRN=0, SA=1, SB=1, PRECISION=32, time=12.019, GFLOP/s=11438.107, GFLOPS/W=93.362\n",
            "nvml_gr_clock=1050, MWG=128, NWG=128, KWG=32, MDIMC=16, NDIMC=8, MDIMA=32, NDIMB=8, KWI=2, VWM=4, VWN=4, STRM=0, STRN=0, SA=1, SB=1, PRECISION=32, time=11.964, GFLOP/s=11490.371, GFLOPS/W=88.242\n",
            "nvml_gr_clock=1050, MWG=128, NWG=128, KWG=32, MDIMC=16, NDIMC=8, MDIMA=32, NDIMB=32, KWI=2, VWM=4, VWN=4, STRM=0, STRN=0, SA=1, SB=1, PRECISION=32, time=11.179, GFLOP/s=12297.630, GFLOPS/W=95.745\n",
            "nvml_gr_clock=1050, MWG=128, NWG=64, KWG=32, MDIMC=16, NDIMC=8, MDIMA=32, NDIMB=16, KWI=2, VWM=4, VWN=4, STRM=0, STRN=0, SA=1, SB=1, PRECISION=32, time=10.617, GFLOP/s=12948.250, GFLOPS/W=84.308\n",
            "nvml_gr_clock=870, MWG=128, NWG=128, KWG=32, MDIMC=16, NDIMC=8, MDIMA=32, NDIMB=16, KWI=2, VWM=4, VWN=4, STRM=0, STRN=0, SA=1, SB=1, PRECISION=32, time=13.960, GFLOP/s=9847.506, GFLOPS/W=94.264\n",
            "nvml_gr_clock=1230, MWG=128, NWG=128, KWG=32, MDIMC=16, NDIMC=8, MDIMA=32, NDIMB=16, KWI=2, VWM=4, VWN=4, STRM=0, STRN=0, SA=1, SB=1, PRECISION=32, time=10.001, GFLOP/s=13745.245, GFLOPS/W=77.920\n",
            "nvml_gr_clock=510, MWG=128, NWG=128, KWG=32, MDIMC=16, NDIMC=8, MDIMA=32, NDIMB=16, KWI=2, VWM=4, VWN=4, STRM=0, STRN=0, SA=1, SB=1, PRECISION=32, time=23.160, GFLOP/s=5935.764, GFLOPS/W=78.243\n",
            "nvml_gr_clock=1410, MWG=128, NWG=128, KWG=32, MDIMC=16, NDIMC=8, MDIMA=32, NDIMB=16, KWI=2, VWM=4, VWN=4, STRM=0, STRN=0, SA=1, SB=1, PRECISION=32, time=8.817, GFLOP/s=15591.503, GFLOPS/W=63.871\n",
            "nvml_gr_clock=330, MWG=128, NWG=128, KWG=32, MDIMC=16, NDIMC=8, MDIMA=32, NDIMB=16, KWI=2, VWM=4, VWN=4, STRM=0, STRN=0, SA=1, SB=1, PRECISION=32, time=35.852, GFLOP/s=3834.417, GFLOPS/W=60.841\n",
            "nvml_gr_clock=690, MWG=128, NWG=128, KWG=32, MDIMC=16, NDIMC=8, MDIMA=32, NDIMB=16, KWI=2, VWM=4, VWN=4, STRM=0, STRN=0, SA=1, SB=1, PRECISION=32, time=17.461, GFLOP/s=7873.141, GFLOPS/W=83.739\n",
            "nvml_gr_clock=1050, MWG=128, NWG=128, KWG=32, MDIMC=16, NDIMC=8, MDIMA=32, NDIMB=16, KWI=2, VWM=4, VWN=4, STRM=0, STRN=0, SA=1, SB=0, PRECISION=32, time=13.875, GFLOP/s=9907.729, GFLOPS/W=84.329\n",
            "nvml_gr_clock=1050, MWG=128, NWG=128, KWG=32, MDIMC=16, NDIMC=8, MDIMA=32, NDIMB=16, KWI=2, VWM=4, VWN=4, STRM=0, STRN=0, SA=0, SB=1, PRECISION=32, time=12.398, GFLOP/s=11087.993, GFLOPS/W=92.816\n",
            "nvml_gr_clock=1410, MWG=64, NWG=128, KWG=32, MDIMC=16, NDIMC=8, MDIMA=16, NDIMB=8, KWI=2, VWM=4, VWN=1, STRM=0, STRN=0, SA=0, SB=0, PRECISION=32, time=10.789, GFLOP/s=12741.470, GFLOPS/W=49.440\n",
            "nvml_gr_clock=1410, MWG=64, NWG=128, KWG=32, MDIMC=16, NDIMC=8, MDIMA=16, NDIMB=8, KWI=2, VWM=4, VWN=8, STRM=0, STRN=0, SA=0, SB=0, PRECISION=32, time=13.337, GFLOP/s=10307.977, GFLOPS/W=41.449\n",
            "nvml_gr_clock=1410, MWG=64, NWG=128, KWG=32, MDIMC=16, NDIMC=8, MDIMA=16, NDIMB=8, KWI=2, VWM=4, VWN=4, STRM=0, STRN=0, SA=0, SB=0, PRECISION=32, time=13.330, GFLOP/s=10313.199, GFLOPS/W=41.184\n",
            "nvml_gr_clock=1410, MWG=64, NWG=128, KWG=32, MDIMC=16, NDIMC=8, MDIMA=16, NDIMB=8, KWI=2, VWM=4, VWN=2, STRM=0, STRN=0, SA=0, SB=0, PRECISION=32, time=10.736, GFLOP/s=12804.486, GFLOPS/W=51.367\n",
            "nvml_gr_clock=1410, MWG=64, NWG=32, KWG=32, MDIMC=16, NDIMC=8, MDIMA=16, NDIMB=8, KWI=2, VWM=4, VWN=2, STRM=0, STRN=0, SA=0, SB=0, PRECISION=32, time=13.053, GFLOP/s=10531.618, GFLOPS/W=43.738\n",
            "nvml_gr_clock=1410, MWG=64, NWG=16, KWG=32, MDIMC=16, NDIMC=8, MDIMA=16, NDIMB=8, KWI=2, VWM=4, VWN=2, STRM=0, STRN=0, SA=0, SB=0, PRECISION=32, time=16.393, GFLOP/s=8386.137, GFLOPS/W=33.372\n",
            "nvml_gr_clock=1410, MWG=64, NWG=64, KWG=32, MDIMC=16, NDIMC=8, MDIMA=16, NDIMB=8, KWI=2, VWM=4, VWN=2, STRM=0, STRN=0, SA=0, SB=0, PRECISION=32, time=11.238, GFLOP/s=12232.521, GFLOPS/W=48.811\n",
            "nvml_gr_clock=1050, MWG=64, NWG=128, KWG=32, MDIMC=16, NDIMC=8, MDIMA=16, NDIMB=8, KWI=2, VWM=4, VWN=2, STRM=0, STRN=0, SA=0, SB=0, PRECISION=32, time=13.621, GFLOP/s=10092.321, GFLOPS/W=71.024\n",
            "nvml_gr_clock=1050, MWG=64, NWG=128, KWG=32, MDIMC=16, NDIMC=8, MDIMA=16, NDIMB=8, KWI=2, VWM=4, VWN=4, STRM=0, STRN=0, SA=0, SB=0, PRECISION=32, time=16.605, GFLOP/s=8279.187, GFLOPS/W=73.489\n",
            "nvml_gr_clock=1050, MWG=64, NWG=128, KWG=32, MDIMC=16, NDIMC=16, MDIMA=16, NDIMB=8, KWI=2, VWM=4, VWN=4, STRM=0, STRN=0, SA=0, SB=0, PRECISION=32, time=13.761, GFLOP/s=9990.249, GFLOPS/W=72.118\n",
            "nvml_gr_clock=510, MWG=64, NWG=128, KWG=32, MDIMC=16, NDIMC=8, MDIMA=16, NDIMB=8, KWI=2, VWM=4, VWN=4, STRM=0, STRN=0, SA=0, SB=0, PRECISION=32, time=28.996, GFLOP/s=4741.058, GFLOPS/W=59.838\n",
            "nvml_gr_clock=1230, MWG=64, NWG=128, KWG=32, MDIMC=16, NDIMC=8, MDIMA=16, NDIMB=8, KWI=2, VWM=4, VWN=4, STRM=0, STRN=0, SA=0, SB=0, PRECISION=32, time=14.777, GFLOP/s=9303.432, GFLOPS/W=60.630\n",
            "nvml_gr_clock=870, MWG=64, NWG=128, KWG=32, MDIMC=16, NDIMC=8, MDIMA=16, NDIMB=8, KWI=2, VWM=4, VWN=4, STRM=0, STRN=0, SA=0, SB=0, PRECISION=32, time=19.316, GFLOP/s=7116.899, GFLOPS/W=69.222\n",
            "nvml_gr_clock=690, MWG=64, NWG=128, KWG=32, MDIMC=16, NDIMC=8, MDIMA=16, NDIMB=8, KWI=2, VWM=4, VWN=4, STRM=0, STRN=0, SA=0, SB=0, PRECISION=32, time=23.006, GFLOP/s=5975.608, GFLOPS/W=68.681\n",
            "nvml_gr_clock=330, MWG=64, NWG=128, KWG=32, MDIMC=16, NDIMC=8, MDIMA=16, NDIMB=8, KWI=2, VWM=4, VWN=4, STRM=0, STRN=0, SA=0, SB=0, PRECISION=32, time=39.262, GFLOP/s=3501.389, GFLOPS/W=50.962\n",
            "nvml_gr_clock=1050, MWG=64, NWG=128, KWG=32, MDIMC=16, NDIMC=8, MDIMA=16, NDIMB=32, KWI=2, VWM=4, VWN=4, STRM=0, STRN=0, SA=0, SB=0, PRECISION=32, time=16.615, GFLOP/s=8273.962, GFLOPS/W=70.445\n",
            "nvml_gr_clock=1050, MWG=64, NWG=128, KWG=32, MDIMC=16, NDIMC=8, MDIMA=16, NDIMB=16, KWI=2, VWM=4, VWN=4, STRM=0, STRN=0, SA=0, SB=0, PRECISION=32, time=16.614, GFLOP/s=8274.279, GFLOPS/W=70.037\n",
            "nvml_gr_clock=1050, MWG=64, NWG=128, KWG=32, MDIMC=16, NDIMC=8, MDIMA=16, NDIMB=8, KWI=2, VWM=2, VWN=4, STRM=0, STRN=0, SA=0, SB=0, PRECISION=32, time=11.934, GFLOP/s=11519.138, GFLOPS/W=75.917\n",
            "best performing configuration:\n",
            "nvml_gr_clock=1050, MWG=128, NWG=128, KWG=32, MDIMC=16, NDIMC=8, MDIMA=32, NDIMB=16, KWI=2, VWM=4, VWN=4, STRM=0, STRN=0, SA=1, SB=1, PRECISION=32, time=11.688, GFLOP/s=11762.044, GFLOPS/W=97.411\n"
          ]
        },
        {
          "output_type": "error",
          "ename": "KeyError",
          "evalue": "ignored",
          "traceback": [
            "\u001b[0;31m---------------------------------------------------------------------------\u001b[0m",
            "\u001b[0;31mKeyError\u001b[0m                                  Traceback (most recent call last)",
            "\u001b[0;32m<ipython-input-8-34a19d023385>\u001b[0m in \u001b[0;36m<cell line: 9>\u001b[0;34m()\u001b[0m\n\u001b[1;32m      7\u001b[0m \u001b[0mto_optimize\u001b[0m \u001b[0;34m=\u001b[0m \u001b[0;34m'GFLOPS/W'\u001b[0m\u001b[0;34m\u001b[0m\u001b[0;34m\u001b[0m\u001b[0m\n\u001b[1;32m      8\u001b[0m \u001b[0;34m\u001b[0m\u001b[0m\n\u001b[0;32m----> 9\u001b[0;31m results, env = kt.tune_kernel(\"Xgemm\", \"\", problem_size, [], tune_params, block_size_names=block_size_names,\n\u001b[0m\u001b[1;32m     10\u001b[0m                              \u001b[0msimulation_mode\u001b[0m\u001b[0;34m=\u001b[0m\u001b[0;32mTrue\u001b[0m\u001b[0;34m,\u001b[0m\u001b[0;34m\u001b[0m\u001b[0;34m\u001b[0m\u001b[0m\n\u001b[1;32m     11\u001b[0m                              \u001b[0mrestrictions\u001b[0m\u001b[0;34m=\u001b[0m\u001b[0mrestrict\u001b[0m\u001b[0;34m,\u001b[0m\u001b[0;34m\u001b[0m\u001b[0;34m\u001b[0m\u001b[0m\n",
            "\u001b[0;32m/usr/local/lib/python3.9/dist-packages/kernel_tuner/interface.py\u001b[0m in \u001b[0;36mtune_kernel\u001b[0;34m(kernel_name, kernel_source, problem_size, arguments, tune_params, grid_div_x, grid_div_y, grid_div_z, restrictions, answer, atol, verify, verbose, lang, device, platform, smem_args, cmem_args, texmem_args, compiler, compiler_options, defines, log, iterations, block_size_names, quiet, strategy, strategy_options, cache, metrics, simulation_mode, observers, objective, objective_higher_is_better)\u001b[0m\n\u001b[1;32m    686\u001b[0m     \u001b[0;31m# get the seperate timings for the benchmarking process\u001b[0m\u001b[0;34m\u001b[0m\u001b[0;34m\u001b[0m\u001b[0m\n\u001b[1;32m    687\u001b[0m     \u001b[0moverhead_time\u001b[0m \u001b[0;34m=\u001b[0m \u001b[0;36m1000\u001b[0m \u001b[0;34m*\u001b[0m \u001b[0;34m(\u001b[0m\u001b[0mperf_counter\u001b[0m\u001b[0;34m(\u001b[0m\u001b[0;34m)\u001b[0m \u001b[0;34m-\u001b[0m \u001b[0mstart_overhead_time\u001b[0m\u001b[0;34m)\u001b[0m\u001b[0;34m\u001b[0m\u001b[0;34m\u001b[0m\u001b[0m\n\u001b[0;32m--> 688\u001b[0;31m     \u001b[0menv\u001b[0m \u001b[0;34m=\u001b[0m \u001b[0mutil\u001b[0m\u001b[0;34m.\u001b[0m\u001b[0mget_total_timings\u001b[0m\u001b[0;34m(\u001b[0m\u001b[0mresults\u001b[0m\u001b[0;34m,\u001b[0m \u001b[0menv\u001b[0m\u001b[0;34m,\u001b[0m \u001b[0moverhead_time\u001b[0m\u001b[0;34m)\u001b[0m\u001b[0;34m\u001b[0m\u001b[0;34m\u001b[0m\u001b[0m\n\u001b[0m\u001b[1;32m    689\u001b[0m     \u001b[0;32mreturn\u001b[0m \u001b[0mresults\u001b[0m\u001b[0;34m,\u001b[0m \u001b[0menv\u001b[0m\u001b[0;34m\u001b[0m\u001b[0;34m\u001b[0m\u001b[0m\n\u001b[1;32m    690\u001b[0m \u001b[0;34m\u001b[0m\u001b[0m\n",
            "\u001b[0;32m/usr/local/lib/python3.9/dist-packages/kernel_tuner/util.py\u001b[0m in \u001b[0;36mget_total_timings\u001b[0;34m(results, env, overhead_time)\u001b[0m\n\u001b[1;32m    433\u001b[0m             \u001b[0mtotal_compile_time\u001b[0m \u001b[0;34m+=\u001b[0m \u001b[0mresult\u001b[0m\u001b[0;34m[\u001b[0m\u001b[0;34m'compile_time'\u001b[0m\u001b[0;34m]\u001b[0m\u001b[0;34m\u001b[0m\u001b[0;34m\u001b[0m\u001b[0m\n\u001b[1;32m    434\u001b[0m             \u001b[0mtotal_verification_time\u001b[0m \u001b[0;34m+=\u001b[0m \u001b[0mresult\u001b[0m\u001b[0;34m[\u001b[0m\u001b[0;34m'verification_time'\u001b[0m\u001b[0;34m]\u001b[0m\u001b[0;34m\u001b[0m\u001b[0;34m\u001b[0m\u001b[0m\n\u001b[0;32m--> 435\u001b[0;31m             \u001b[0mtotal_benchmark_time\u001b[0m \u001b[0;34m+=\u001b[0m \u001b[0mresult\u001b[0m\u001b[0;34m[\u001b[0m\u001b[0;34m'benchmark_time'\u001b[0m\u001b[0;34m]\u001b[0m\u001b[0;34m\u001b[0m\u001b[0;34m\u001b[0m\u001b[0m\n\u001b[0m\u001b[1;32m    436\u001b[0m \u001b[0;34m\u001b[0m\u001b[0m\n\u001b[1;32m    437\u001b[0m     \u001b[0;31m# add the seperate times to the environment dict\u001b[0m\u001b[0;34m\u001b[0m\u001b[0;34m\u001b[0m\u001b[0m\n",
            "\u001b[0;31mKeyError\u001b[0m: 'benchmark_time'"
          ]
        }
      ]
    },
    {
      "cell_type": "code",
      "execution_count": null,
      "metadata": {
        "id": "FgSLwkmGinyg"
      },
      "outputs": [],
      "source": [
        "# matrix width needs to match the value in the kernel source\n",
        "problem_size = (512, 512)\n",
        "\n",
        "A = np.random.randn(*problem_size).astype(np.float32)\n",
        "B = np.random.randn(*problem_size).astype(np.float32)\n",
        "C = np.zeros_like(A)\n",
        "\n",
        "args = [C, A, B]\n",
        "\n",
        "tune_params = collections.OrderedDict()\n",
        "tune_params[\"block_size_x\"] = [2**i for i in range(0, 11)]\n",
        "tune_params[\"block_size_y\"] = [2**i for i in range(0, 11)]\n",
        "tune_params[\"tile_size_x\"] = [2**i for i in range(0, 6)]\n",
        "tune_params[\"tile_size_y\"] = [2**i for i in range(0, 6)]\n",
        "\n",
        "restrict = [\"block_size_x == block_size_y * tile_size_y\"]\n",
        "\n",
        "grid_div_x = [\"block_size_x\", \"tile_size_x\"]\n",
        "grid_div_y = [\"block_size_y\", \"tile_size_y\"]\n",
        "\n",
        "answer = [np.matmul(A,B), None, None]\n",
        "\n",
        "metrics = collections.OrderedDict()\n",
        "metrics[\"GFLOP/s\"] = lambda p : (2 * 512**3 / 1e9) / (p[\"time\"] / 1e3)"
      ]
    },
    {
      "cell_type": "code",
      "execution_count": null,
      "metadata": {
        "id": "W6ZqN7GP6Gwe"
      },
      "outputs": [],
      "source": [
        "results, env = kt.tune_kernel(\"matmul_kernel\", \"matmul.cu\",\n",
        "                             problem_size, args, tune_params,\n",
        "                             grid_div_y=grid_div_y, grid_div_x=grid_div_x,\n",
        "                             answer=answer, atol=1e-4,\n",
        "                             restrictions=restrict, verbose=True, iterations=32, metrics=metrics, lang=\"cupy\", cache=\"matmul_cache.json\")\n",
        "print(f\"Number of configurations: {len(results)}\")"
      ]
    },
    {
      "cell_type": "markdown",
      "metadata": {
        "id": "eK2IdErE_hL_"
      },
      "source": [
        "We can also visualize the tuning results using [KTdashboard](https://github.com/KernelTuner/dashboard)."
      ]
    },
    {
      "cell_type": "code",
      "execution_count": null,
      "metadata": {
        "id": "5uIYKswZKVe6"
      },
      "outputs": [],
      "source": [
        "%pip install git+https://github.com/KernelTuner/dashboard\n",
        "import panel as pn\n",
        "pn.extension(comms='colab')\n",
        "import ktdashboard.ktdashboard as ktd"
      ]
    },
    {
      "cell_type": "code",
      "execution_count": null,
      "metadata": {
        "id": "2cxXYJ2KKv2U"
      },
      "outputs": [],
      "source": [
        "ktd.KTdashboard(\"matmul_cache.json\").notebook()"
      ]
    },
    {
      "cell_type": "markdown",
      "metadata": {
        "id": "WfHCkXDM16NQ"
      },
      "source": [
        "There are times when the amount of possible configurations of tunable parameters is too high, or other time constraints do not allow to perform a full search. In those cases, it could be beneficial to use one of Kernel Tuner **search optimization strategies**.\n",
        "\n",
        "You can experiment with them in the next block. Try different strategies, and compare the optimum found with the overall optimum found previously. You can also time the tuning process to see the differences there.\n",
        "\n",
        "The strategies and how to enable them are described in Kernel Tuner's [API](https://KernelTuner.github.io/kernel_tuner/stable/user-api.html)."
      ]
    },
    {
      "cell_type": "code",
      "execution_count": null,
      "metadata": {
        "id": "fE8v8_Bg3XlS"
      },
      "outputs": [],
      "source": [
        "# experiment with enabling a search optimization strategy\n",
        "strategy = \"\"\n",
        "\n",
        "# tell the strategy to compile and benchmark at most 40 kernel configurations\n",
        "strategy_options = dict(max_fevals=40)\n",
        "\n",
        "results_opt, env_opt = kt.tune_kernel(\"matmul_kernel\", \"matmul.cu\",\n",
        "                                      problem_size, args, tune_params,\n",
        "                                      grid_div_y=grid_div_y, grid_div_x=grid_div_x,\n",
        "                                      answer=answer, atol=1e-4,\n",
        "                                      restrictions=restrict, verbose=True, iterations=32,\n",
        "                                      metrics=metrics, lang=\"cupy\",\n",
        "                                      strategy=strategy, strategy_options=strategy_options)\n",
        "print(f\"Number of configurations: {len(results_opt)}\")"
      ]
    },
    {
      "cell_type": "markdown",
      "metadata": {
        "id": "uzVlmRtD6cBI"
      },
      "source": [
        "Next we are going to add a **custom observer** to the kernel. One possibility is to add an observer to compute the number of registers used by the kernel, and add this value to the metrics.\n",
        "\n",
        "In order to create a new observer it is necessary to extend the class `BenchmarkObserver` provided by Kernel Tuner in the `kt.observers` package. In case you want to access the number of registers used by a kernel instance, this is available inside your observer class in `self.dev.func.num_regs`.\n",
        "\n",
        "As usual, how to add observers is described in Kernel Tuner's [API](https://KernelTuner.github.io/kernel_tuner/stable/user-api.html)."
      ]
    },
    {
      "cell_type": "code",
      "execution_count": null,
      "metadata": {
        "id": "A9p8PPXoAZYU"
      },
      "outputs": [],
      "source": [
        "observers = []\n",
        "\n",
        "# add a custom observer\n",
        "from kernel_tuner.observers import BenchmarkObserver\n",
        "\n",
        "# define your own observer class that extends BenchmarkObserver\n",
        "#class CustomObserver(BenchmarkObserver)\n",
        "\n",
        "# implement the get_results method of this class\n",
        "# ...\n",
        "\n",
        "# create an instance of your custom observer\n",
        "custom_observer = None\n",
        "\n",
        "# append it to the list of observers by uncommenting the line below\n",
        "#observers.append(custom_observer)\n",
        "\n",
        "# add a metric so that our observed number of registers appears in the console output\n",
        "#metrics[\"regs\"] = lambda p:p[\"num_regs\"]\n",
        "\n",
        "\n",
        "# add an NVMLObserver\n",
        "from kernel_tuner.nvml import NVMLObserver\n",
        "nvml_observer = NVMLObserver([\"nvml_energy\", \"temperature\"])\n",
        "\n",
        "observers.append(nvml_observer)\n",
        "\n",
        "# add metrics to enable console output for observed quantities\n",
        "metrics[\"GFLOPS/W\"] = lambda p : (2 * 512**3 / 1e9) / (p[\"nvml_energy\"])\n",
        "metrics[\"T\"] = lambda p:p[\"temperature\"]\n",
        "\n",
        "# call tune_kernel to tune using our new Observers and additional metrics\n",
        "results, env = kt.tune_kernel(\"matmul_kernel\", \"matmul.cu\",\n",
        "                             problem_size, args, tune_params,\n",
        "                             observers=observers,\n",
        "                             grid_div_y=grid_div_y, grid_div_x=grid_div_x,\n",
        "                             answer=answer, atol=1e-4,\n",
        "                             restrictions=restrict, verbose=True, iterations=32, metrics=metrics, lang=\"cupy\")\n",
        "print(f\"Number of configurations: {len(results)}\")"
      ]
    }
  ],
  "metadata": {
    "colab": {
      "provenance": []
    },
    "kernelspec": {
      "display_name": "Python 3",
      "language": "python",
      "name": "python3"
    },
    "language_info": {
      "codemirror_mode": {
        "name": "ipython",
        "version": 3
      },
      "file_extension": ".py",
      "mimetype": "text/x-python",
      "name": "python",
      "nbconvert_exporter": "python",
      "pygments_lexer": "ipython3",
      "version": "3.7.3"
    },
    "gpuClass": "standard"
  },
  "nbformat": 4,
  "nbformat_minor": 0
}